{
 "cells": [
  {
   "cell_type": "markdown",
   "metadata": {},
   "source": [
    "# ПІБ студента: Думанський Владлен Юрійович\n",
    "Група: ІПЗ-22011бск\n",
    "Варіант: 11"
   ]
  },
  {
   "cell_type": "markdown",
   "metadata": {},
   "source": [
    "# Завдання 1: Генерація масиву з 54 цілих чисел, з яких 30% від'ємні, та збереження у файл\n",
    "1. Створення програми для генерації довільного масиву\n",
    "1.1 та 1.2 Генерація масиву із 54 цілих чисел із 30% від'ємних елементів"
   ]
  },
  {
   "cell_type": "code",
   "execution_count": null,
   "metadata": {},
   "outputs": [],
   "source": [
    "import numpy as np\n",
    "import matplotlib.pyplot as plt\n",
    "import random\n",
    "import json\n",
    "\n",
    "def generate_array():\n",
    "    array = [random.randint(-128, 128) for _ in range(54)]\n",
    "    negative_elements_count = int(0.3 * len(array))\n",
    "    negative_indices = random.sample(range(54), negative_elements_count)\n",
    "    for i in negative_indices:\n",
    "        array[i] = -abs(array[i])\n",
    "    return array\n",
    "\n",
    "# Генерація масиву та збереження у файл\n",
    "array = generate_array()\n",
    "with open(\"array.json\", \"w\") as f:\n",
    "    json.dump(array, f)\n",
    "print(\"Згенерований масив збережено у файл 'array.json'\")"
   ]
  },
  {
   "cell_type": "markdown",
   "metadata": {},
   "source": [
    "# Завдання 3: Зчитування масиву з файлу та виведення на екран\n",
    "# 3. Створення програми для зчитування масиву з файлу та виведення на екран"
   ]
  },
  {
   "cell_type": "code",
   "execution_count": null,
   "metadata": {},
   "outputs": [],
   "source": [
    "with open(\"array.json\", \"r\") as f:\n",
    "    loaded_array = json.load(f)\n",
    "    print(\"Згенерований масив:\", loaded_array)"
   ]
  },
  {
   "cell_type": "markdown",
   "metadata": {},
   "source": [
    "# Завдання 4: Візуалізація масиву з виділенням мінімальних елементів та елементів із заданого інтервалу\n",
    "# 4. Візуалізація масиву за допомогою стовпчастої горизонтальної діаграми"
   ]
  },
  {
   "cell_type": "code",
   "execution_count": null,
   "metadata": {},
   "outputs": [],
   "source": [
    "def visualize_array(arr, a, b):\n",
    "    min_elements = sorted(arr)[:3]\n",
    "    plt.barh(range(len(arr)), arr, color=[\n",
    "        'red' if x in min_elements else ('blue' if a <= x <= b else 'grey') for x in arr\n",
    "    ])\n",
    "    for i, v in enumerate(arr):\n",
    "        if v in min_elements:\n",
    "            plt.text(v, i, f\"{v}\", color='black', va='center')\n",
    "    plt.xlabel(\"Значення\")\n",
    "    plt.ylabel(\"Індекс\")\n",
    "    plt.title(\"Горизонтальна діаграма масиву\")\n",
    "    plt.show()"
   ]
  },
  {
   "cell_type": "markdown",
   "metadata": {},
   "source": [
    "# Запит значень a та b у користувача\n",
    "# Завдання 4: Введення значень a та b"
   ]
  },
  {
   "cell_type": "code",
   "execution_count": null,
   "metadata": {},
   "outputs": [],
   "source": [
    "#a = int(input(\"Введіть значення a: \"))\n",
    "#b = int(input(\"Введіть значення b: \"))\n",
    "a = -50  # Введіть значення a вручну\n",
    "b = 50   # Введіть значення b вручну\n",
    "\n",
    "# Візуалізація масиву\n",
    "visualize_array(loaded_array, a, b)"
   ]
  },
  {
   "cell_type": "markdown",
   "metadata": {},
   "source": [
    "# Завдання 5: Пошук позиції третього мінімального елемента\n",
    "# 5. Пошук позиції третього мінімального елемента"
   ]
  },
  {
   "cell_type": "code",
   "execution_count": null,
   "metadata": {},
   "outputs": [],
   "source": [
    "third_min_value = sorted(loaded_array)[2]\n",
    "third_min_index = loaded_array.index(third_min_value)\n",
    "print(\"Номер позиції третього мінімального елемента:\", third_min_index)"
   ]
  },
  {
   "cell_type": "markdown",
   "metadata": {},
   "source": [
    "# Завдання 6: Підрахунок кількості та суми елементів після 15 від'ємного елемента\n",
    "# 6. Підрахунок кількості та суми елементів після 15 від'ємного елемента"
   ]
  },
  {
   "cell_type": "code",
   "execution_count": null,
   "metadata": {},
   "outputs": [],
   "source": [
    "negative_indices = [i for i, x in enumerate(loaded_array) if x < 0]\n",
    "if len(negative_indices) >= 15:\n",
    "    elements_after_15th_negative = loaded_array[negative_indices[14] + 1:]\n",
    "    count_after_15th_negative = len(elements_after_15th_negative)\n",
    "    sum_after_15th_negative = sum(elements_after_15th_negative)\n",
    "    print(\"Кількість елементів після 15 від'ємного елемента:\", count_after_15th_negative)\n",
    "    print(\"Сума елементів після 15 від'ємного елемента:\", sum_after_15th_negative)\n",
    "else:\n",
    "    print(\"У масиві менше ніж 15 від'ємних елементів.\")"
   ]
  },
  {
   "cell_type": "markdown",
   "metadata": {},
   "source": [
    "# Завдання 7: Перетворення масиву з видаленням елементів із інтервалу [a, b] та заповнення нулями. Візуалізація перетвореного масиву\n",
    "# 7. Перетворення масиву: видалення елементів із інтервалу [a, b] та заповнення нулями. Візуалізація перетвореного масиву"
   ]
  },
  {
   "cell_type": "code",
   "execution_count": null,
   "metadata": {},
   "outputs": [],
   "source": [
    "transformed_array = [x for x in loaded_array if not (a <= x <= b)]\n",
    "transformed_array += [0] * (len(loaded_array) - len(transformed_array))\n",
    "print(\"Перетворений масив:\", transformed_array)\n",
    "\n",
    "def visualize_transformed_array(arr):\n",
    "    plt.barh(range(len(arr)), arr, color='grey')\n",
    "    plt.xlabel(\"Значення\")\n",
    "    plt.ylabel(\"Індекс\")\n",
    "    plt.title(\"Горизонтальна діаграма перетвореного масиву\")\n",
    "    plt.show()\n",
    "\n",
    "visualize_transformed_array(transformed_array)\n"
   ]
  }
 ],
 "metadata": {
  "kernelspec": {
   "display_name": "Python 3",
   "language": "python",
   "name": "python3"
  },
  "language_info": {
   "name": "python",
   "version": "3.12.4"
  }
 },
 "nbformat": 4,
 "nbformat_minor": 2
}
